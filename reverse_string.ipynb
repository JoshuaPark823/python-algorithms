{
 "cells": [
  {
   "cell_type": "markdown",
   "metadata": {
    "collapsed": false
   },
   "source": [
    "### Reverse String \n",
    "\n",
    "Write a function that reverses a string. The input string is given as an array of characters char[].\n",
    "Do not allocate extra space for another array, you must do this by modifying the input array in-place with O(1) extra memory.\n",
    "You may assume all the characters consist of printable ascii characters.\n",
    "\n",
    "\n",
    "- Example 1: </br>\n",
    "</br>\n",
    "    `Input: [\"h\",\"e\",\"l\",\"l\",\"o\"]` </br>\n",
    "    `Output: [\"o\",\"l\",\"l\",\"e\",\"h\"]` </br>\n",
    "\n",
    "- Example 2: </br>\n",
    "</br>\n",
    "    `Input: [\"H\",\"a\",\"n\",\"n\",\"a\",\"h\"]` </br>\n",
    "    `Output: [\"h\",\"a\",\"n\",\"n\",\"a\",\"H\"]` </br>\n"
   ]
  },
  {
   "cell_type": "code",
   "execution_count": 2,
   "metadata": {
    "collapsed": false
   },
   "outputs": [
   ],
   "source": [
    "from typing import List\n",
    "\n",
    "class Solution:\n",
    "\n",
    "    def reverseString(self, s: List[str]) -> None:\n",
    "\n",
    "        \"\"\"\n",
    "        Do not return anything, modify s in-place instead.\n",
    "\n",
    "        \"\"\"\n",
    "\n",
    "        index = 0\n",
    "        back_index = len(s) - 1 # second index to keep track of the end\n",
    "\n",
    "        # Ranges from 0 -> length-1\n",
    "        while(index < back_index):\n",
    "\n",
    "            # Swap the front and back item\n",
    "            temp = s[index]\n",
    "            s[index] = s[back_index]\n",
    "            s[back_index] = temp\n",
    "\n",
    "            index += 1\n",
    "            back_index -= 1\n",
    "\n",
    "        return s"
   ]
  },
  {
   "cell_type": "code",
   "execution_count": 0,
   "metadata": {
    "collapsed": false
   },
   "outputs": [
   ],
   "source": [
   ]
  }
 ],
 "metadata": {
  "kernelspec": {
   "display_name": "Python 3 (system-wide)",
   "language": "python",
   "metadata": {
    "cocalc": {
     "description": "Python 3 programming language",
     "priority": 100,
     "url": "https://www.python.org/"
    }
   },
   "name": "python3"
  },
  "language_info": {
   "codemirror_mode": {
    "name": "ipython",
    "version": 3
   },
   "file_extension": ".py",
   "mimetype": "text/x-python",
   "name": "python",
   "nbconvert_exporter": "python",
   "pygments_lexer": "ipython3",
   "version": "3.6.9"
  }
 },
 "nbformat": 4,
 "nbformat_minor": 4
}